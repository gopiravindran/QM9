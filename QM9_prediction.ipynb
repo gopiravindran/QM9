{
 "cells": [
  {
   "cell_type": "code",
   "execution_count": 1,
   "id": "3e5543af-66fc-4e04-9a39-b6a315922dc3",
   "metadata": {},
   "outputs": [],
   "source": [
    "import os\n",
    "import numpy as np\n",
    "import pandas as pd\n",
    "import matplotlib.pyplot as plt\n",
    "import seaborn as sns\n",
    "from scipy import stats"
   ]
  },
  {
   "cell_type": "code",
   "execution_count": 2,
   "id": "7d956e71-0979-47a1-808c-73d53cf44d2e",
   "metadata": {},
   "outputs": [],
   "source": [
    "pd.set_option('display.max_columns', 10)"
   ]
  },
  {
   "cell_type": "markdown",
   "id": "1ae7adfd-23c3-4652-9007-03f8a9ef4b97",
   "metadata": {},
   "source": [
    "## Loading the Dataset labels"
   ]
  },
  {
   "cell_type": "code",
   "execution_count": 3,
   "id": "eb1db1bd-56bb-4e1e-998d-cb2c5b80fd4a",
   "metadata": {},
   "outputs": [
    {
     "data": {
      "text/html": [
       "<div>\n",
       "<style scoped>\n",
       "    .dataframe tbody tr th:only-of-type {\n",
       "        vertical-align: middle;\n",
       "    }\n",
       "\n",
       "    .dataframe tbody tr th {\n",
       "        vertical-align: top;\n",
       "    }\n",
       "\n",
       "    .dataframe thead th {\n",
       "        text-align: right;\n",
       "    }\n",
       "</style>\n",
       "<table border=\"1\" class=\"dataframe\">\n",
       "  <thead>\n",
       "    <tr style=\"text-align: right;\">\n",
       "      <th></th>\n",
       "      <th>filename</th>\n",
       "      <th>n_atoms</th>\n",
       "      <th>index</th>\n",
       "      <th>A</th>\n",
       "      <th>B</th>\n",
       "      <th>...</th>\n",
       "      <th>U0</th>\n",
       "      <th>U</th>\n",
       "      <th>H</th>\n",
       "      <th>G</th>\n",
       "      <th>Cv</th>\n",
       "    </tr>\n",
       "  </thead>\n",
       "  <tbody>\n",
       "    <tr>\n",
       "      <th>0</th>\n",
       "      <td>qm9_1</td>\n",
       "      <td>5</td>\n",
       "      <td>1</td>\n",
       "      <td>157.71180</td>\n",
       "      <td>157.70997</td>\n",
       "      <td>...</td>\n",
       "      <td>-40.478930</td>\n",
       "      <td>-40.476062</td>\n",
       "      <td>-40.475117</td>\n",
       "      <td>-40.498597</td>\n",
       "      <td>6.469</td>\n",
       "    </tr>\n",
       "    <tr>\n",
       "      <th>1</th>\n",
       "      <td>qm9_10</td>\n",
       "      <td>6</td>\n",
       "      <td>10</td>\n",
       "      <td>159.03567</td>\n",
       "      <td>9.22327</td>\n",
       "      <td>...</td>\n",
       "      <td>-132.718150</td>\n",
       "      <td>-132.714563</td>\n",
       "      <td>-132.713619</td>\n",
       "      <td>-132.742149</td>\n",
       "      <td>10.287</td>\n",
       "    </tr>\n",
       "    <tr>\n",
       "      <th>2</th>\n",
       "      <td>qm9_100</td>\n",
       "      <td>15</td>\n",
       "      <td>100</td>\n",
       "      <td>7.14221</td>\n",
       "      <td>4.37083</td>\n",
       "      <td>...</td>\n",
       "      <td>-196.406419</td>\n",
       "      <td>-196.400340</td>\n",
       "      <td>-196.399396</td>\n",
       "      <td>-196.435152</td>\n",
       "      <td>22.005</td>\n",
       "    </tr>\n",
       "    <tr>\n",
       "      <th>3</th>\n",
       "      <td>qm9_1000</td>\n",
       "      <td>15</td>\n",
       "      <td>1000</td>\n",
       "      <td>3.92760</td>\n",
       "      <td>3.21907</td>\n",
       "      <td>...</td>\n",
       "      <td>-304.742823</td>\n",
       "      <td>-304.735902</td>\n",
       "      <td>-304.734958</td>\n",
       "      <td>-304.773620</td>\n",
       "      <td>24.648</td>\n",
       "    </tr>\n",
       "    <tr>\n",
       "      <th>4</th>\n",
       "      <td>qm9_10000</td>\n",
       "      <td>11</td>\n",
       "      <td>10000</td>\n",
       "      <td>2.91858</td>\n",
       "      <td>1.37263</td>\n",
       "      <td>...</td>\n",
       "      <td>-434.553374</td>\n",
       "      <td>-434.545093</td>\n",
       "      <td>-434.544148</td>\n",
       "      <td>-434.588778</td>\n",
       "      <td>26.045</td>\n",
       "    </tr>\n",
       "  </tbody>\n",
       "</table>\n",
       "<p>5 rows × 18 columns</p>\n",
       "</div>"
      ],
      "text/plain": [
       "    filename  n_atoms  index          A          B  ...          U0  \\\n",
       "0      qm9_1        5      1  157.71180  157.70997  ...  -40.478930   \n",
       "1     qm9_10        6     10  159.03567    9.22327  ... -132.718150   \n",
       "2    qm9_100       15    100    7.14221    4.37083  ... -196.406419   \n",
       "3   qm9_1000       15   1000    3.92760    3.21907  ... -304.742823   \n",
       "4  qm9_10000       11  10000    2.91858    1.37263  ... -434.553374   \n",
       "\n",
       "            U           H           G      Cv  \n",
       "0  -40.476062  -40.475117  -40.498597   6.469  \n",
       "1 -132.714563 -132.713619 -132.742149  10.287  \n",
       "2 -196.400340 -196.399396 -196.435152  22.005  \n",
       "3 -304.735902 -304.734958 -304.773620  24.648  \n",
       "4 -434.545093 -434.544148 -434.588778  26.045  \n",
       "\n",
       "[5 rows x 18 columns]"
      ]
     },
     "execution_count": 3,
     "metadata": {},
     "output_type": "execute_result"
    }
   ],
   "source": [
    "# Loading the labels\n",
    "df_labels = pd.read_csv('qm9_labels.csv')\n",
    "df_labels.head()"
   ]
  },
  {
   "cell_type": "code",
   "execution_count": null,
   "id": "8f5d2df5-ff8e-4c98-b6f8-ad85b2e713f8",
   "metadata": {},
   "outputs": [],
   "source": [
    "df_labels.info()"
   ]
  },
  {
   "cell_type": "markdown",
   "id": "b2dca5e1-6d99-4f01-8f62-b83359b83513",
   "metadata": {},
   "source": [
    "## Loading the Dataset inputs"
   ]
  },
  {
   "cell_type": "code",
   "execution_count": 4,
   "id": "a91b1640-6c29-48a9-b86e-9baff69c854d",
   "metadata": {},
   "outputs": [
    {
     "data": {
      "text/html": [
       "<div>\n",
       "<style scoped>\n",
       "    .dataframe tbody tr th:only-of-type {\n",
       "        vertical-align: middle;\n",
       "    }\n",
       "\n",
       "    .dataframe tbody tr th {\n",
       "        vertical-align: top;\n",
       "    }\n",
       "\n",
       "    .dataframe thead th {\n",
       "        text-align: right;\n",
       "    }\n",
       "</style>\n",
       "<table border=\"1\" class=\"dataframe\">\n",
       "  <thead>\n",
       "    <tr style=\"text-align: right;\">\n",
       "      <th></th>\n",
       "      <th>filename</th>\n",
       "      <th>eig_1</th>\n",
       "      <th>eig_2</th>\n",
       "      <th>eig_3</th>\n",
       "      <th>eig_4</th>\n",
       "      <th>...</th>\n",
       "      <th>eig_25</th>\n",
       "      <th>eig_26</th>\n",
       "      <th>eig_27</th>\n",
       "      <th>eig_28</th>\n",
       "      <th>eig_29</th>\n",
       "    </tr>\n",
       "  </thead>\n",
       "  <tbody>\n",
       "    <tr>\n",
       "      <th>0</th>\n",
       "      <td>qm9_1</td>\n",
       "      <td>1.0</td>\n",
       "      <td>0.000000</td>\n",
       "      <td>0.023048</td>\n",
       "      <td>0.023048</td>\n",
       "      <td>...</td>\n",
       "      <td>0.024529</td>\n",
       "      <td>0.024529</td>\n",
       "      <td>0.024529</td>\n",
       "      <td>0.024529</td>\n",
       "      <td>0.024529</td>\n",
       "    </tr>\n",
       "    <tr>\n",
       "      <th>1</th>\n",
       "      <td>qm9_10</td>\n",
       "      <td>1.0</td>\n",
       "      <td>0.299565</td>\n",
       "      <td>0.054755</td>\n",
       "      <td>0.000000</td>\n",
       "      <td>...</td>\n",
       "      <td>0.009634</td>\n",
       "      <td>0.009634</td>\n",
       "      <td>0.009634</td>\n",
       "      <td>0.009634</td>\n",
       "      <td>0.009634</td>\n",
       "    </tr>\n",
       "    <tr>\n",
       "      <th>2</th>\n",
       "      <td>qm9_100</td>\n",
       "      <td>1.0</td>\n",
       "      <td>0.289508</td>\n",
       "      <td>0.219977</td>\n",
       "      <td>0.109554</td>\n",
       "      <td>...</td>\n",
       "      <td>0.008284</td>\n",
       "      <td>0.008284</td>\n",
       "      <td>0.008284</td>\n",
       "      <td>0.008284</td>\n",
       "      <td>0.008284</td>\n",
       "    </tr>\n",
       "    <tr>\n",
       "      <th>3</th>\n",
       "      <td>qm9_1000</td>\n",
       "      <td>1.0</td>\n",
       "      <td>0.286323</td>\n",
       "      <td>0.236211</td>\n",
       "      <td>0.119480</td>\n",
       "      <td>...</td>\n",
       "      <td>0.005992</td>\n",
       "      <td>0.005992</td>\n",
       "      <td>0.005992</td>\n",
       "      <td>0.005992</td>\n",
       "      <td>0.005992</td>\n",
       "    </tr>\n",
       "    <tr>\n",
       "      <th>4</th>\n",
       "      <td>qm9_10000</td>\n",
       "      <td>1.0</td>\n",
       "      <td>0.432691</td>\n",
       "      <td>0.326633</td>\n",
       "      <td>0.240640</td>\n",
       "      <td>...</td>\n",
       "      <td>0.003494</td>\n",
       "      <td>0.003494</td>\n",
       "      <td>0.003494</td>\n",
       "      <td>0.003494</td>\n",
       "      <td>0.003494</td>\n",
       "    </tr>\n",
       "  </tbody>\n",
       "</table>\n",
       "<p>5 rows × 30 columns</p>\n",
       "</div>"
      ],
      "text/plain": [
       "    filename  eig_1     eig_2     eig_3     eig_4  ...    eig_25    eig_26  \\\n",
       "0      qm9_1    1.0  0.000000  0.023048  0.023048  ...  0.024529  0.024529   \n",
       "1     qm9_10    1.0  0.299565  0.054755  0.000000  ...  0.009634  0.009634   \n",
       "2    qm9_100    1.0  0.289508  0.219977  0.109554  ...  0.008284  0.008284   \n",
       "3   qm9_1000    1.0  0.286323  0.236211  0.119480  ...  0.005992  0.005992   \n",
       "4  qm9_10000    1.0  0.432691  0.326633  0.240640  ...  0.003494  0.003494   \n",
       "\n",
       "     eig_27    eig_28    eig_29  \n",
       "0  0.024529  0.024529  0.024529  \n",
       "1  0.009634  0.009634  0.009634  \n",
       "2  0.008284  0.008284  0.008284  \n",
       "3  0.005992  0.005992  0.005992  \n",
       "4  0.003494  0.003494  0.003494  \n",
       "\n",
       "[5 rows x 30 columns]"
      ]
     },
     "execution_count": 4,
     "metadata": {},
     "output_type": "execute_result"
    }
   ],
   "source": [
    "# Loading the inputs\n",
    "df_inputs = pd.read_csv('qm9_inputs.csv')\n",
    "df_inputs.head()"
   ]
  },
  {
   "cell_type": "code",
   "execution_count": null,
   "id": "8be351e7-56d9-4af1-aa30-516d24418bba",
   "metadata": {},
   "outputs": [],
   "source": [
    "df_inputs.info()"
   ]
  },
  {
   "cell_type": "markdown",
   "id": "cc10c08b-c922-46f0-845b-2efa64ccda93",
   "metadata": {},
   "source": [
    "## Pre-processing the data\n",
    "Most of the labels are important parameters but for the sake of simplicity we will limit our model in prediction of Free Energy G."
   ]
  },
  {
   "cell_type": "code",
   "execution_count": 5,
   "id": "a6b356a0-30b5-41c3-8739-795d2f8407cd",
   "metadata": {},
   "outputs": [
    {
     "data": {
      "text/html": [
       "<div>\n",
       "<style scoped>\n",
       "    .dataframe tbody tr th:only-of-type {\n",
       "        vertical-align: middle;\n",
       "    }\n",
       "\n",
       "    .dataframe tbody tr th {\n",
       "        vertical-align: top;\n",
       "    }\n",
       "\n",
       "    .dataframe thead th {\n",
       "        text-align: right;\n",
       "    }\n",
       "</style>\n",
       "<table border=\"1\" class=\"dataframe\">\n",
       "  <thead>\n",
       "    <tr style=\"text-align: right;\">\n",
       "      <th></th>\n",
       "      <th>filename</th>\n",
       "      <th>eig_1</th>\n",
       "      <th>eig_2</th>\n",
       "      <th>eig_3</th>\n",
       "      <th>eig_4</th>\n",
       "      <th>...</th>\n",
       "      <th>eig_27</th>\n",
       "      <th>eig_28</th>\n",
       "      <th>eig_29</th>\n",
       "      <th>G</th>\n",
       "      <th>Cv</th>\n",
       "    </tr>\n",
       "  </thead>\n",
       "  <tbody>\n",
       "    <tr>\n",
       "      <th>0</th>\n",
       "      <td>qm9_1</td>\n",
       "      <td>1.0</td>\n",
       "      <td>0.000000</td>\n",
       "      <td>0.023048</td>\n",
       "      <td>0.023048</td>\n",
       "      <td>...</td>\n",
       "      <td>0.024529</td>\n",
       "      <td>0.024529</td>\n",
       "      <td>0.024529</td>\n",
       "      <td>-40.498597</td>\n",
       "      <td>6.469</td>\n",
       "    </tr>\n",
       "    <tr>\n",
       "      <th>1</th>\n",
       "      <td>qm9_10</td>\n",
       "      <td>1.0</td>\n",
       "      <td>0.299565</td>\n",
       "      <td>0.054755</td>\n",
       "      <td>0.000000</td>\n",
       "      <td>...</td>\n",
       "      <td>0.009634</td>\n",
       "      <td>0.009634</td>\n",
       "      <td>0.009634</td>\n",
       "      <td>-132.742149</td>\n",
       "      <td>10.287</td>\n",
       "    </tr>\n",
       "    <tr>\n",
       "      <th>2</th>\n",
       "      <td>qm9_100</td>\n",
       "      <td>1.0</td>\n",
       "      <td>0.289508</td>\n",
       "      <td>0.219977</td>\n",
       "      <td>0.109554</td>\n",
       "      <td>...</td>\n",
       "      <td>0.008284</td>\n",
       "      <td>0.008284</td>\n",
       "      <td>0.008284</td>\n",
       "      <td>-196.435152</td>\n",
       "      <td>22.005</td>\n",
       "    </tr>\n",
       "    <tr>\n",
       "      <th>3</th>\n",
       "      <td>qm9_1000</td>\n",
       "      <td>1.0</td>\n",
       "      <td>0.286323</td>\n",
       "      <td>0.236211</td>\n",
       "      <td>0.119480</td>\n",
       "      <td>...</td>\n",
       "      <td>0.005992</td>\n",
       "      <td>0.005992</td>\n",
       "      <td>0.005992</td>\n",
       "      <td>-304.773620</td>\n",
       "      <td>24.648</td>\n",
       "    </tr>\n",
       "    <tr>\n",
       "      <th>4</th>\n",
       "      <td>qm9_10000</td>\n",
       "      <td>1.0</td>\n",
       "      <td>0.432691</td>\n",
       "      <td>0.326633</td>\n",
       "      <td>0.240640</td>\n",
       "      <td>...</td>\n",
       "      <td>0.003494</td>\n",
       "      <td>0.003494</td>\n",
       "      <td>0.003494</td>\n",
       "      <td>-434.588778</td>\n",
       "      <td>26.045</td>\n",
       "    </tr>\n",
       "  </tbody>\n",
       "</table>\n",
       "<p>5 rows × 32 columns</p>\n",
       "</div>"
      ],
      "text/plain": [
       "    filename  eig_1     eig_2     eig_3     eig_4  ...    eig_27    eig_28  \\\n",
       "0      qm9_1    1.0  0.000000  0.023048  0.023048  ...  0.024529  0.024529   \n",
       "1     qm9_10    1.0  0.299565  0.054755  0.000000  ...  0.009634  0.009634   \n",
       "2    qm9_100    1.0  0.289508  0.219977  0.109554  ...  0.008284  0.008284   \n",
       "3   qm9_1000    1.0  0.286323  0.236211  0.119480  ...  0.005992  0.005992   \n",
       "4  qm9_10000    1.0  0.432691  0.326633  0.240640  ...  0.003494  0.003494   \n",
       "\n",
       "     eig_29           G      Cv  \n",
       "0  0.024529  -40.498597   6.469  \n",
       "1  0.009634 -132.742149  10.287  \n",
       "2  0.008284 -196.435152  22.005  \n",
       "3  0.005992 -304.773620  24.648  \n",
       "4  0.003494 -434.588778  26.045  \n",
       "\n",
       "[5 rows x 32 columns]"
      ]
     },
     "execution_count": 5,
     "metadata": {},
     "output_type": "execute_result"
    }
   ],
   "source": [
    "target = ['G','Cv']\n",
    "df_merged = pd.merge(df_inputs, df_labels[['filename', target[0], target[1]]], on='filename', how='left')\n",
    "df_merged.head()"
   ]
  },
  {
   "cell_type": "code",
   "execution_count": null,
   "id": "7fefa136-f4b1-4b47-a84a-e3933a834399",
   "metadata": {},
   "outputs": [],
   "source": [
    "df_merged.info()"
   ]
  },
  {
   "cell_type": "markdown",
   "id": "913caa14-47fe-440d-894d-e6232332f584",
   "metadata": {},
   "source": [
    "## Exploratory Analysis on the data\n",
    "\n",
    "Perform some analysis on the data showing the ditribution with respect to various labels.\n",
    "1. Free Energy\n",
    "2. Specific Heat Capacity"
   ]
  },
  {
   "cell_type": "code",
   "execution_count": null,
   "id": "5f791fb4-3be9-44a9-a02f-4be6ee5c0681",
   "metadata": {},
   "outputs": [],
   "source": [
    "# Generate random data for the histogram\n",
    "G = df_merged['G']\n",
    "Cv = df_merged['Cv']\n",
    " \n",
    "sns.distplot(G, kde=False, fit=stats.norm, bins=25, color='purple')\n",
    "# Adding labels and title\n",
    "plt.xlabel('Values')\n",
    "plt.ylabel('Density')\n",
    "plt.title('Customized Histogram with Density Plot')\n",
    " \n",
    "# Display the plot\n",
    "plt.show()\n"
   ]
  },
  {
   "cell_type": "code",
   "execution_count": null,
   "id": "a39b9dcf-06cd-4ca7-a4c9-1b700ecb8a6b",
   "metadata": {},
   "outputs": [],
   "source": [
    "# sns.histplot(Cv, kde=True, stat='density', fill=True, bins=25)\n",
    "sns.distplot(Cv, kde=False, fit=stats.norm, bins=25, color='green')\n",
    "\n",
    "# Adding labels and title\n",
    "plt.xlabel('Values')\n",
    "plt.ylabel('Density')\n",
    "plt.title('Customized Histogram with Density Plot')\n",
    " \n",
    "# Display the plot\n",
    "plt.show()"
   ]
  },
  {
   "cell_type": "code",
   "execution_count": null,
   "id": "37e08ea1-0492-4cbc-9c38-679f1b2c711b",
   "metadata": {},
   "outputs": [],
   "source": []
  },
  {
   "cell_type": "markdown",
   "id": "d6a0007c-7930-4741-aed8-ada5093fabfb",
   "metadata": {},
   "source": [
    "## Defining a model to train the data"
   ]
  },
  {
   "cell_type": "code",
   "execution_count": 6,
   "id": "f8ae7fc6-c3f6-4d3d-a6f0-ec2ae4388468",
   "metadata": {},
   "outputs": [],
   "source": [
    "import pickle\n",
    "\n",
    "from sklearn.model_selection import train_test_split\n",
    "from sklearn.model_selection import cross_val_score"
   ]
  },
  {
   "cell_type": "code",
   "execution_count": 7,
   "id": "5cd74beb-b586-4af0-b84d-f887fc2945ee",
   "metadata": {},
   "outputs": [],
   "source": [
    "X = df_merged.drop(['filename', target[0], target[1]], axis=1)\n",
    "y = df_merged[target[0]] # G\n",
    "# y = df_merged[target[1]] # Cv\n",
    "\n",
    "# Test-Train Splittin\n",
    "X_train, X_valid, y_train, y_valid = train_test_split(X, y, test_size=0.2, random_state=42)"
   ]
  },
  {
   "cell_type": "markdown",
   "id": "950073f9-b1d8-4ddf-a004-30fc18efcbdf",
   "metadata": {},
   "source": [
    "We use K-fold cross-validation on both test and train data"
   ]
  },
  {
   "cell_type": "code",
   "execution_count": 8,
   "id": "356fc7e9-1a89-446f-8078-10879fe8b9c0",
   "metadata": {},
   "outputs": [],
   "source": [
    "# Defining a Scoring function\n",
    "def get_score(model):\n",
    "    train_score = -1*cross_val_score(model, X_train, y_train, cv=5, scoring='neg_mean_absolute_error').mean()\n",
    "    valid_score = -1*cross_val_score(model, X_valid, y_valid, cv=5, scoring='neg_mean_absolute_error')\n",
    "    accuracy = valid_score.mean()\n",
    "    error = valid_score.std()\n",
    "    \n",
    "    print(f\"Training Score : {train_score:.3f}\")\n",
    "    print(f\"Validation Score : {accuracy:.3f} +/- {error:.6f}\\n\")\n",
    "    \n",
    "def plot_score(func, parameter, values):\n",
    "    train_list, valid_list = [], []\n",
    "    for i in values:\n",
    "        params={parameter:i}\n",
    "        train_score, valid_score = func(**params)\n",
    "        train_list.append(train_score)\n",
    "        valid_list.append(valid_score)\n",
    "    \n",
    "    plt.title(\"Validation Curve\")\n",
    "    plt.ylabel(\"Score\")\n",
    "    plt.xlabel(parameter)\n",
    "    plt.plot(values, valid_list, 'b-o', label='Validation')\n",
    "    \n",
    "    plt.legend()\n",
    "    plt.show()"
   ]
  },
  {
   "cell_type": "markdown",
   "id": "fb1b0223-df60-4595-a95e-736e58a219e7",
   "metadata": {},
   "source": [
    "### 1. Linear Regression"
   ]
  },
  {
   "cell_type": "code",
   "execution_count": 9,
   "id": "e45c5702-7387-4513-852d-753a44e68d59",
   "metadata": {},
   "outputs": [
    {
     "name": "stdout",
     "output_type": "stream",
     "text": [
      "Training Score : 9.937\n",
      "Validation Score : 9.867 +/- 0.077696\n",
      "\n",
      "CPU times: user 6.08 s, sys: 25.8 ms, total: 6.1 s\n",
      "Wall time: 611 ms\n"
     ]
    }
   ],
   "source": [
    "%%time\n",
    "from sklearn.linear_model import LinearRegression\n",
    "\n",
    "linear = LinearRegression(n_jobs=-1)\n",
    "linear.fit(X_train, y_train)\n",
    "\n",
    "get_score(linear)"
   ]
  },
  {
   "cell_type": "markdown",
   "id": "f24ce36d-f559-45b5-a7de-ef8cc5a8ac3f",
   "metadata": {},
   "source": [
    "### 2. Decision Tree Regression"
   ]
  },
  {
   "cell_type": "code",
   "execution_count": 10,
   "id": "de414afa-21e2-4f97-88fd-f74212db512b",
   "metadata": {},
   "outputs": [
    {
     "name": "stdout",
     "output_type": "stream",
     "text": [
      "Training Score : 10.250\n",
      "Validation Score : 12.476 +/- 0.240888\n",
      "\n",
      "CPU times: user 24.8 s, sys: 47.8 ms, total: 24.8 s\n",
      "Wall time: 25.9 s\n"
     ]
    }
   ],
   "source": [
    "%%time\n",
    "from sklearn.tree import DecisionTreeRegressor\n",
    "\n",
    "tree = DecisionTreeRegressor(random_state=42)\n",
    "tree.fit(X_train, y_train)\n",
    "\n",
    "get_score(tree)"
   ]
  },
  {
   "cell_type": "markdown",
   "id": "a4e2aca3-2eb3-4a37-906c-a31b521d6216",
   "metadata": {},
   "source": [
    "### 3. Random Forest"
   ]
  },
  {
   "cell_type": "code",
   "execution_count": 11,
   "id": "6d54d745-56c8-4152-9502-f932604eaac8",
   "metadata": {},
   "outputs": [
    {
     "name": "stdout",
     "output_type": "stream",
     "text": [
      "Training Score : 7.575\n",
      "Validation Score : 9.043 +/- 0.090135\n",
      "\n",
      "CPU times: user 37min 41s, sys: 6.85 s, total: 37min 48s\n",
      "Wall time: 3min 21s\n"
     ]
    }
   ],
   "source": [
    "%%time\n",
    "from sklearn.ensemble import RandomForestRegressor\n",
    "\n",
    "forest = RandomForestRegressor(random_state=42, n_jobs=-1)\n",
    "forest.fit(X_train, y_train)\n",
    "\n",
    "get_score(forest)"
   ]
  },
  {
   "cell_type": "markdown",
   "id": "8a07ebdd-102d-489a-a7e6-85a62a22c6d8",
   "metadata": {},
   "source": [
    "### 4. LGBoost"
   ]
  },
  {
   "cell_type": "code",
   "execution_count": 12,
   "id": "aefd4181-921f-4c6a-8184-210b34d98844",
   "metadata": {},
   "outputs": [
    {
     "name": "stdout",
     "output_type": "stream",
     "text": [
      "[LightGBM] [Info] Auto-choosing row-wise multi-threading, the overhead of testing was 0.002256 seconds.\n",
      "You can set `force_row_wise=true` to remove the overhead.\n",
      "And if memory is not enough, you can set `force_col_wise=true`.\n",
      "[LightGBM] [Info] Total Bins 7140\n",
      "[LightGBM] [Info] Number of data points in the train set: 104544, number of used features: 28\n",
      "[LightGBM] [Info] Start training from score -410.852749\n",
      "[LightGBM] [Info] Auto-choosing col-wise multi-threading, the overhead of testing was 0.002590 seconds.\n",
      "You can set `force_col_wise=true` to remove the overhead.\n",
      "[LightGBM] [Info] Total Bins 7140\n",
      "[LightGBM] [Info] Number of data points in the train set: 83635, number of used features: 28\n",
      "[LightGBM] [Info] Start training from score -410.922538\n",
      "[LightGBM] [Info] Auto-choosing col-wise multi-threading, the overhead of testing was 0.002638 seconds.\n",
      "You can set `force_col_wise=true` to remove the overhead.\n",
      "[LightGBM] [Info] Total Bins 7140\n",
      "[LightGBM] [Info] Number of data points in the train set: 83635, number of used features: 28\n",
      "[LightGBM] [Info] Start training from score -410.812846\n",
      "[LightGBM] [Info] Auto-choosing col-wise multi-threading, the overhead of testing was 0.002918 seconds.\n",
      "You can set `force_col_wise=true` to remove the overhead.\n",
      "[LightGBM] [Info] Total Bins 7140\n",
      "[LightGBM] [Info] Number of data points in the train set: 83635, number of used features: 28\n",
      "[LightGBM] [Info] Start training from score -410.727252\n",
      "[LightGBM] [Info] Auto-choosing col-wise multi-threading, the overhead of testing was 0.002601 seconds.\n",
      "You can set `force_col_wise=true` to remove the overhead.\n",
      "[LightGBM] [Info] Total Bins 7140\n",
      "[LightGBM] [Info] Number of data points in the train set: 83635, number of used features: 28\n",
      "[LightGBM] [Info] Start training from score -410.851531\n",
      "[LightGBM] [Info] Auto-choosing col-wise multi-threading, the overhead of testing was 0.002638 seconds.\n",
      "You can set `force_col_wise=true` to remove the overhead.\n",
      "[LightGBM] [Info] Total Bins 7140\n",
      "[LightGBM] [Info] Number of data points in the train set: 83636, number of used features: 28\n",
      "[LightGBM] [Info] Start training from score -410.949578\n",
      "[LightGBM] [Info] Auto-choosing col-wise multi-threading, the overhead of testing was 0.001089 seconds.\n",
      "You can set `force_col_wise=true` to remove the overhead.\n",
      "[LightGBM] [Info] Total Bins 7140\n",
      "[LightGBM] [Info] Number of data points in the train set: 20908, number of used features: 28\n",
      "[LightGBM] [Info] Start training from score -411.069207\n",
      "[LightGBM] [Info] Auto-choosing col-wise multi-threading, the overhead of testing was 0.000778 seconds.\n",
      "You can set `force_col_wise=true` to remove the overhead.\n",
      "[LightGBM] [Info] Total Bins 7140\n",
      "[LightGBM] [Info] Number of data points in the train set: 20909, number of used features: 28\n",
      "[LightGBM] [Info] Start training from score -410.681089\n",
      "[LightGBM] [Info] Auto-choosing col-wise multi-threading, the overhead of testing was 0.000787 seconds.\n",
      "You can set `force_col_wise=true` to remove the overhead.\n",
      "[LightGBM] [Info] Total Bins 7140\n",
      "[LightGBM] [Info] Number of data points in the train set: 20909, number of used features: 28\n",
      "[LightGBM] [Info] Start training from score -410.853894\n",
      "[LightGBM] [Info] Auto-choosing col-wise multi-threading, the overhead of testing was 0.001570 seconds.\n",
      "You can set `force_col_wise=true` to remove the overhead.\n",
      "[LightGBM] [Info] Total Bins 7140\n",
      "[LightGBM] [Info] Number of data points in the train set: 20909, number of used features: 28\n",
      "[LightGBM] [Info] Start training from score -410.874916\n",
      "[LightGBM] [Info] Auto-choosing col-wise multi-threading, the overhead of testing was 0.000809 seconds.\n",
      "You can set `force_col_wise=true` to remove the overhead.\n",
      "[LightGBM] [Info] Total Bins 7140\n",
      "[LightGBM] [Info] Number of data points in the train set: 20909, number of used features: 28\n",
      "[LightGBM] [Info] Start training from score -410.905487\n",
      "Training Score : 6.087\n",
      "Validation Score : 6.764 +/- 0.040440\n",
      "\n",
      "CPU times: user 3min 56s, sys: 966 ms, total: 3min 57s\n",
      "Wall time: 18.1 s\n"
     ]
    }
   ],
   "source": [
    "%%time\n",
    "from lightgbm import LGBMRegressor\n",
    "\n",
    "lgbm = LGBMRegressor(random_state=42, n_jobs=-1, learning_rate=0.075, n_estimators=1000)\n",
    "lgbm.fit(X_train, y_train)\n",
    "\n",
    "get_score(lgbm)"
   ]
  },
  {
   "cell_type": "markdown",
   "id": "05b9f449-1f9d-44f8-b837-2b720d467b74",
   "metadata": {},
   "source": [
    "### 5. XGBoost"
   ]
  },
  {
   "cell_type": "code",
   "execution_count": 13,
   "id": "5dd76807-d4a7-45cd-9917-8978e07df06e",
   "metadata": {},
   "outputs": [
    {
     "name": "stdout",
     "output_type": "stream",
     "text": [
      "Training Score : 6.027\n",
      "Validation Score : 6.857 +/- 0.042556\n",
      "\n",
      "CPU times: user 7min 10s, sys: 711 ms, total: 7min 11s\n",
      "Wall time: 36.6 s\n"
     ]
    }
   ],
   "source": [
    "%%time\n",
    "from xgboost import XGBRegressor\n",
    "\n",
    "xgbm = XGBRegressor(n_estimators=1000, learning_rate=0.075)\n",
    "xgbm.fit(X_train, y_train)\n",
    "\n",
    "get_score(xgbm)"
   ]
  },
  {
   "cell_type": "markdown",
   "id": "598d9c52-ac6a-4970-83e7-188feab7ec21",
   "metadata": {},
   "source": [
    "### Saving the best models"
   ]
  },
  {
   "cell_type": "code",
   "execution_count": null,
   "id": "7575e704-ea77-4dce-aaf6-0234cd2fc9d2",
   "metadata": {},
   "outputs": [],
   "source": [
    "folder = 'G'\n",
    "# folder = 'Cv'\n",
    "\n",
    "pickle.dump(linear, open(f'{folder}/linear_model.sav','wb'))\n",
    "pickle.dump(tree, open(f'{folder}/tree_model.sav','wb'))\n",
    "pickle.dump(forest, open(f'{folder}/forest_model.sav','wb'))\n",
    "pickle.dump(lgbm, open(f'{folder}/lgbm_model.sav','wb'))\n",
    "pickle.dump(xgbm, open(f'{folder}/xgbm_model.sav','wb'))"
   ]
  },
  {
   "cell_type": "code",
   "execution_count": null,
   "id": "4323f506-cc34-4547-b0dd-7033b19b123a",
   "metadata": {},
   "outputs": [],
   "source": []
  },
  {
   "cell_type": "markdown",
   "id": "ffe3755f-2d10-4923-a5d2-6df4694ca9b3",
   "metadata": {},
   "source": [
    "## Loading the models"
   ]
  },
  {
   "cell_type": "code",
   "execution_count": null,
   "id": "cdc91136-ccaa-4c3c-a2de-f69ed19ced5d",
   "metadata": {},
   "outputs": [],
   "source": [
    "folder = 'G'\n",
    "# folder = 'Cv'\n",
    "\n",
    "linear = pickle.load(open(f'{folder}/linear_model.sav','rb'))\n",
    "tree = pickle.load(open(f'{folder}/tree_model.sav','rb'))\n",
    "forest = pickle.load(open(f'{folder}/forest_model.sav','rb'))\n",
    "lgbm = pickle.load(open(f'{folder}/lgbm_model.sav','rb'))\n",
    "xgbm = pickle.load(open(f'{folder}/xgbm_model.sav','rb'))"
   ]
  },
  {
   "cell_type": "markdown",
   "id": "47de81b7-8ed9-47c6-bedc-06739ccd6a5f",
   "metadata": {},
   "source": [
    "## Feature Importance"
   ]
  },
  {
   "cell_type": "code",
   "execution_count": 14,
   "id": "c3eebaa3-ad0a-498e-97a5-7d0ccb91e237",
   "metadata": {},
   "outputs": [],
   "source": [
    "def feature_importance(model, title):\n",
    "    importance_df = pd.DataFrame(\n",
    "        {'Features': X_train.columns,'Importance': model.feature_importances_, 'cols':  sns.color_palette(\"flare\", 29).as_hex()}\n",
    "        ).sort_values('Importance', ascending=False)\n",
    "\n",
    "    # Setting your own color pelette\n",
    "    colors = importance_df['cols'].to_list()\n",
    "    pelette = sns.set_palette(sns.color_palette(colors))\n",
    "    \n",
    "    plt.title(f'{title}',fontsize=16)\n",
    "    sns.barplot(data=importance_df.head(10), x='Importance', y='Features', hue='Features', palette=pelette)"
   ]
  },
  {
   "cell_type": "code",
   "execution_count": 15,
   "id": "9a90a6a2-a734-483e-829d-0d6391d1c1fb",
   "metadata": {},
   "outputs": [
    {
     "data": {
      "image/png": "[encoded data removed]",
      "text/plain": [
       "<Figure size 640x480 with 1 Axes>"
      ]
     },
     "metadata": {},
     "output_type": "display_data"
    }
   ],
   "source": [
    "feature_importance(tree, 'Decision Tree')"
   ]
  },
  {
   "cell_type": "code",
   "execution_count": 16,
   "id": "5576e7cf-fea6-4a4a-b6dd-1aa3f12fed57",
   "metadata": {},
   "outputs": [
    {
     "data": {
      "image/png": "[encoded data removed]",
      "text/plain": [
       "<Figure size 640x480 with 1 Axes>"
      ]
     },
     "metadata": {},
     "output_type": "display_data"
    }
   ],
   "source": [
    "feature_importance(forest, 'Random Forest')"
   ]
  },
  {
   "cell_type": "code",
   "execution_count": 17,
   "id": "6fee6ade-255d-4f8a-9860-1447df422b0f",
   "metadata": {},
   "outputs": [
    {
     "data": {
      "image/png": "[encoded data removed]",
      "text/plain": [
       "<Figure size 640x480 with 1 Axes>"
      ]
     },
     "metadata": {},
     "output_type": "display_data"
    }
   ],
   "source": [
    "feature_importance(lgbm, 'LightGBM')"
   ]
  },
  {
   "cell_type": "code",
   "execution_count": 19,
   "id": "dfcaf4a0-c273-4d8e-8156-515d0f542524",
   "metadata": {},
   "outputs": [
    {
     "data": {
      "image/png": "[encoded data removed]",
      "text/plain": [
       "<Figure size 640x480 with 1 Axes>"
      ]
     },
     "metadata": {},
     "output_type": "display_data"
    }
   ],
   "source": [
    "feature_importance(xgbm, 'XGBoost')"
   ]
  },
  {
   "cell_type": "code",
   "execution_count": null,
   "id": "5010f327-0cf3-4678-b5af-68b9fe3a9574",
   "metadata": {},
   "outputs": [],
   "source": []
  }
 ],
 "metadata": {
  "kernelspec": {
   "display_name": "Python 3 (ipykernel)",
   "language": "python",
   "name": "python3"
  },
  "language_info": {
   "codemirror_mode": {
    "name": "ipython",
    "version": 3
   },
   "file_extension": ".py",
   "mimetype": "text/x-python",
   "name": "python",
   "nbconvert_exporter": "python",
   "pygments_lexer": "ipython3",
   "version": "3.12.3"
  }
 },
 "nbformat": 4,
 "nbformat_minor": 5
}
